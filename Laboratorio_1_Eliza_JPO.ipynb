{
  "cells": [
    {
      "cell_type": "markdown",
      "metadata": {
        "id": "7ohIa-_liPM_"
      },
      "source": [
        "NOMBRES: José Pablo \n",
        "\n",
        "APELLIDOS: Orellana Orellana\n",
        "\n",
        "CARNE: 21970\n",
        "\n",
        "FECHA: 10 de julio del 2025"
      ]
    },
    {
      "cell_type": "markdown",
      "metadata": {
        "id": "ea_MzbUBklog"
      },
      "source": [
        "## Reglas del comportamiento\n",
        "\n",
        "1. La conversación **solo puede comenzar si el usuario saluda**.  \n",
        "   Si no hay saludo inicial, Eliza debe responder:  \n",
        "   > \"Es importante iniciar una conversación con un saludo.\"\n",
        "\n",
        "2. Una vez iniciado con un saludo:\n",
        "   - Si el usuario menciona **el nombre del bot (\"Eliza\")**, debe responder:  \n",
        "     > \"Hola, ¿cómo estás?\"\n",
        "   - Si el usuario utiliza **un apodo ofensivo** (ej: \"tonta\"), debe responder:  \n",
        "     > \"No me trates así.\"\n",
        "   - Si el mensaje coincide con **uno de los 5 patrones definidos**, responde de forma adecuada.\n",
        "   - Si no coincide con nada anterior, responde con algo neutro como:  \n",
        "     > \"No puedo comprender tu comentario\""
      ]
    },
    {
      "cell_type": "markdown",
      "metadata": {
        "id": "urUgp64-kyCb"
      },
      "source": [
        "## Instrucciones\n",
        "\n",
        "1. **Investiga la librería `re` de Python**  \n",
        "   Aprende a usar expresiones regulares con `re.match()`, `re.search()`, y la bandera `re.IGNORECASE`.\n",
        "2. **Debes de realizar un diagrama de flujo a mano de tu chatbot.**\n",
        "3. **Define saludos válidos como expresiones regulares**  \n",
        "   Tu bot debe reconocer como saludo:\n",
        "   - \"hola\"\n",
        "   - \"qué tal\"\n",
        "   - \"buenos días\"\n",
        "   - \"buenas tardes\"  \n",
        "   - Agregar mas al gusto\n",
        "\n",
        "4. **Implementa lógica para que el chatbot solo inicie si hay saludo**  \n",
        "   Si no hay saludo, responde: `\"Es importante iniciar una conversación con un saludo.\"`\n",
        "\n",
        "5. **Haz que el bot no distinga entre mayúsculas y minúsculas**  \n",
        "   Usa `re.IGNORECASE` en tus expresiones regulares.\n",
        "\n",
        "6. **Crea al menos 5 patrones de conversación**  \n",
        "   Usa expresiones como:\n",
        "   - \"Me siento (.*)\"\n",
        "   - \"Estoy (.*)\"\n",
        "   - \"Mi (.*)\"\n",
        "   - \"(.*) trabajo (.*)\"\n",
        "   - \"(.*)\\?\"\n",
        "\n",
        "   Puedes crear tus propios patrones. Usa `random.choice()` para variar las respuestas.\n",
        "\n",
        "6. **Reflexiona sobre errores ortográficos**  \n",
        "   responde:\n",
        "   - ¿El bot funciona con errores ortográficos?\n",
        "   - ¿Qué soluciones posibles propones? *(No es necesario implementarlo)*.\n"
      ]
    },
    {
      "cell_type": "markdown",
      "metadata": {},
      "source": [
        "# Diagrama de Flujo ChatBot\n",
        "![Diagrama](Diagram.jpeg)\n"
      ]
    }
  ],
  "metadata": {
    "colab": {
      "provenance": []
    },
    "kernelspec": {
      "display_name": "Procesamiento",
      "language": "python",
      "name": "python3"
    },
    "language_info": {
      "codemirror_mode": {
        "name": "ipython",
        "version": 3
      },
      "file_extension": ".py",
      "mimetype": "text/x-python",
      "name": "python",
      "nbconvert_exporter": "python",
      "pygments_lexer": "ipython3",
      "version": "3.12.11"
    }
  },
  "nbformat": 4,
  "nbformat_minor": 0
}
