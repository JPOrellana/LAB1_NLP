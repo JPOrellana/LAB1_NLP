{
  "nbformat": 4,
  "nbformat_minor": 0,
  "metadata": {
    "colab": {
      "provenance": []
    },
    "kernelspec": {
      "name": "python3",
      "display_name": "Python 3"
    },
    "language_info": {
      "name": "python"
    }
  },
  "cells": [
    {
      "cell_type": "markdown",
      "source": [
        "NOMBRES:\n",
        "\n",
        "APELLIDOS:\n",
        "\n",
        "CARNE:\n",
        "\n",
        "FECHA:"
      ],
      "metadata": {
        "id": "7ohIa-_liPM_"
      }
    },
    {
      "cell_type": "markdown",
      "source": [
        "## Reglas del comportamiento\n",
        "\n",
        "1. La conversación **solo puede comenzar si el usuario saluda**.  \n",
        "   Si no hay saludo inicial, Eliza debe responder:  \n",
        "   > \"Es importante iniciar una conversación con un saludo.\"\n",
        "\n",
        "2. Una vez iniciado con un saludo:\n",
        "   - Si el usuario menciona **el nombre del bot (\"Eliza\")**, debe responder:  \n",
        "     > \"Hola, ¿cómo estás?\"\n",
        "   - Si el usuario utiliza **un apodo ofensivo** (ej: \"tonta\"), debe responder:  \n",
        "     > \"No me trates así.\"\n",
        "   - Si el mensaje coincide con **uno de los 5 patrones definidos**, responde de forma adecuada.\n",
        "   - Si no coincide con nada anterior, responde con algo neutro como:  \n",
        "     > \"No puedo comprender tu comentario\""
      ],
      "metadata": {
        "id": "ea_MzbUBklog"
      }
    },
    {
      "cell_type": "markdown",
      "source": [
        "## Instrucciones\n",
        "\n",
        "1. **Investiga la librería `re` de Python**  \n",
        "   Aprende a usar expresiones regulares con `re.match()`, `re.search()`, y la bandera `re.IGNORECASE`.\n",
        "2. **Debes de realizar un diagrama de flujo a mano de tu chatbot.**\n",
        "3. **Define saludos válidos como expresiones regulares**  \n",
        "   Tu bot debe reconocer como saludo:\n",
        "   - \"hola\"\n",
        "   - \"qué tal\"\n",
        "   - \"buenos días\"\n",
        "   - \"buenas tardes\"  \n",
        "   - Agregar mas al gusto\n",
        "\n",
        "4. **Implementa lógica para que el chatbot solo inicie si hay saludo**  \n",
        "   Si no hay saludo, responde: `\"Es importante iniciar una conversación con un saludo.\"`\n",
        "\n",
        "5. **Haz que el bot no distinga entre mayúsculas y minúsculas**  \n",
        "   Usa `re.IGNORECASE` en tus expresiones regulares.\n",
        "\n",
        "6. **Crea al menos 5 patrones de conversación**  \n",
        "   Usa expresiones como:\n",
        "   - \"Me siento (.*)\"\n",
        "   - \"Estoy (.*)\"\n",
        "   - \"Mi (.*)\"\n",
        "   - \"(.*) trabajo (.*)\"\n",
        "   - \"(.*)\\?\"\n",
        "\n",
        "   Puedes crear tus propios patrones. Usa `random.choice()` para variar las respuestas.\n",
        "\n",
        "6. **Reflexiona sobre errores ortográficos**  \n",
        "   responde:\n",
        "   - ¿El bot funciona con errores ortográficos?\n",
        "   - ¿Qué soluciones posibles propones? *(No es necesario implementarlo)*.\n"
      ],
      "metadata": {
        "id": "urUgp64-kyCb"
      }
    }
  ]
}